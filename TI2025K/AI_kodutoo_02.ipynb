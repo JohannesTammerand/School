{
 "cells": [
  {
   "cell_type": "markdown",
   "metadata": {
    "collapsed": true,
    "id": "pais",
    "jupyter": {
     "outputs_hidden": true
    }
   },
   "source": [
    "# LTAT.01.003 Tehisintellekt\n",
    "## Kevad 2025\n",
    "## Kodutöö 2. Tehisnärvivõrgud"
   ]
  },
  {
   "cell_type": "markdown",
   "metadata": {
    "id": "juhend"
   },
   "source": [
    "Töölehe struktuuri muuta ei tohi, lisada ei tohi uusi lahtreid ega eemaldada praeguseid (vajalikud lahtrite ID-d on paigas)."
   ]
  },
  {
   "cell_type": "code",
   "execution_count": 2,
   "metadata": {
    "id": "importimine"
   },
   "outputs": [
    {
     "ename": "SyntaxError",
     "evalue": "invalid syntax (3881790766.py, line 2)",
     "output_type": "error",
     "traceback": [
      "\u001b[1;36m  Cell \u001b[1;32mIn[2], line 2\u001b[1;36m\u001b[0m\n\u001b[1;33m    pip install drive\u001b[0m\n\u001b[1;37m        ^\u001b[0m\n\u001b[1;31mSyntaxError\u001b[0m\u001b[1;31m:\u001b[0m invalid syntax\n"
     ]
    }
   ],
   "source": [
    "# Vajalike moodulite importimine\n"
   ]
  },
  {
   "cell_type": "code",
   "execution_count": 3,
   "metadata": {
    "id": "googledrive"
   },
   "outputs": [
    {
     "ename": "ModuleNotFoundError",
     "evalue": "No module named 'google.colab'",
     "output_type": "error",
     "traceback": [
      "\u001b[1;31m---------------------------------------------------------------------------\u001b[0m",
      "\u001b[1;31mModuleNotFoundError\u001b[0m                       Traceback (most recent call last)",
      "Cell \u001b[1;32mIn[3], line 3\u001b[0m\n\u001b[0;32m      1\u001b[0m \u001b[38;5;66;03m# GD-ga ühendamine\u001b[39;00m\n\u001b[0;32m      2\u001b[0m \u001b[38;5;28;01mimport\u001b[39;00m \u001b[38;5;21;01mos\u001b[39;00m\n\u001b[1;32m----> 3\u001b[0m \u001b[38;5;28;01mfrom\u001b[39;00m \u001b[38;5;21;01mgoogle\u001b[39;00m\u001b[38;5;21;01m.\u001b[39;00m\u001b[38;5;21;01mcolab\u001b[39;00m \u001b[38;5;28;01mimport\u001b[39;00m drive\n\u001b[0;32m      4\u001b[0m drive\u001b[38;5;241m.\u001b[39mmount(\u001b[38;5;124m'\u001b[39m\u001b[38;5;124m/content/drive\u001b[39m\u001b[38;5;124m'\u001b[39m)\n\u001b[0;32m      5\u001b[0m os\u001b[38;5;241m.\u001b[39mchdir(\u001b[38;5;124m\"\u001b[39m\u001b[38;5;124m/content/drive/My Drive/Colab Notebooks/\u001b[39m\u001b[38;5;124m\"\u001b[39m)\n",
      "\u001b[1;31mModuleNotFoundError\u001b[0m: No module named 'google.colab'"
     ]
    }
   ],
   "source": [
    "# GD-ga ühendamine\n",
    "import os\n",
    "from google.colab import drive\n",
    "drive.mount('/content/drive')\n",
    "os.chdir(\"/content/drive/My Drive/Colab Notebooks/\")"
   ]
  },
  {
   "cell_type": "code",
   "execution_count": null,
   "metadata": {
    "id": "andmed"
   },
   "outputs": [],
   "source": [
    "# Andmede sisselugemine\n",
    "# 1. ülesande andmed\n",
    "cities = pd.read_csv('nyc_property.csv', delimiter=\",\")\n",
    "# 2. ülesande andmed\n",
    "phones = pd.read_csv('phones.csv', delimiter=\",\")"
   ]
  },
  {
   "cell_type": "markdown",
   "metadata": {
    "id": "1_pealkiri"
   },
   "source": [
    "## 1. NYC kinnisvarahindade ennustamine"
   ]
  },
  {
   "cell_type": "markdown",
   "metadata": {
    "id": "1_eeltootlus_tekst"
   },
   "source": [
    "### 1.1. Eeltöötlus"
   ]
  },
  {
   "cell_type": "code",
   "execution_count": null,
   "metadata": {
    "id": "1_eeltootlus_1"
   },
   "outputs": [],
   "source": []
  },
  {
   "cell_type": "code",
   "execution_count": null,
   "metadata": {
    "id": "1_eeltootlus_2"
   },
   "outputs": [],
   "source": []
  },
  {
   "cell_type": "code",
   "execution_count": null,
   "metadata": {
    "id": "1_eeltootlus_3"
   },
   "outputs": [],
   "source": []
  },
  {
   "cell_type": "code",
   "execution_count": null,
   "metadata": {
    "id": "1_eeltootlus_4"
   },
   "outputs": [],
   "source": []
  },
  {
   "cell_type": "code",
   "execution_count": null,
   "metadata": {
    "id": "1_eeltootlus_5"
   },
   "outputs": [],
   "source": []
  },
  {
   "cell_type": "markdown",
   "metadata": {
    "id": "1_vorgud_tekst"
   },
   "source": [
    "### 1.2. Erinevad närvivõrgud"
   ]
  },
  {
   "cell_type": "markdown",
   "metadata": {
    "id": "1_vork_1_tekst"
   },
   "source": [
    "#### Närvivõrk 1"
   ]
  },
  {
   "cell_type": "code",
   "execution_count": null,
   "metadata": {
    "id": "1_vork_1_koostamine"
   },
   "outputs": [],
   "source": [
    "# Mudeli koostamine\n"
   ]
  },
  {
   "cell_type": "code",
   "execution_count": null,
   "metadata": {
    "id": "1_vork_1_treenimine"
   },
   "outputs": [],
   "source": [
    "# Mudeli treenimine\n"
   ]
  },
  {
   "cell_type": "code",
   "execution_count": null,
   "metadata": {
    "id": "1_vork_1_testimine"
   },
   "outputs": [],
   "source": [
    "# Mudeli testimine\n",
    "\n",
    "# Trükib välja viimase kaofunktsiooni tulemuse\n",
    "print(\"Mudel 1.1:\", hist_1_1.history[\"loss\"][-1])"
   ]
  },
  {
   "cell_type": "markdown",
   "metadata": {
    "id": "1_vork_2_tekst"
   },
   "source": [
    "#### Närvivõrk 2"
   ]
  },
  {
   "cell_type": "code",
   "execution_count": null,
   "metadata": {
    "id": "1_vork_2_koostamine"
   },
   "outputs": [],
   "source": [
    "# Mudeli koostamine\n"
   ]
  },
  {
   "cell_type": "code",
   "execution_count": null,
   "metadata": {
    "id": "1_vork_2_treenimine"
   },
   "outputs": [],
   "source": [
    "# Mudeli treenimine\n"
   ]
  },
  {
   "cell_type": "code",
   "execution_count": null,
   "metadata": {
    "id": "1_vork_2_testimine"
   },
   "outputs": [],
   "source": [
    "# Mudeli testimine\n",
    "\n",
    "# Trükib välja viimase kaofunktsiooni tulemuse\n",
    "print(\"Mudel 1.2:\", hist_1_2_history[\"loss\"][-1])"
   ]
  },
  {
   "cell_type": "markdown",
   "metadata": {
    "id": "1_vork_3_tekst"
   },
   "source": [
    "#### Närvivõrk 3"
   ]
  },
  {
   "cell_type": "code",
   "execution_count": null,
   "metadata": {
    "id": "1_vork_3_koostamine"
   },
   "outputs": [],
   "source": [
    "# Mudeli koostamine\n"
   ]
  },
  {
   "cell_type": "code",
   "execution_count": null,
   "metadata": {
    "id": "1_vork_3_treenimine"
   },
   "outputs": [],
   "source": [
    "# Mudeli treenimine"
   ]
  },
  {
   "cell_type": "code",
   "execution_count": null,
   "metadata": {
    "id": "1_vork_3_testimine"
   },
   "outputs": [],
   "source": [
    "# Mudeli testimine\n",
    "\n",
    "# Trükib välja viimase kaofunktsiooni tulemuse\n",
    "print(\"Mudel 1.3:\", hist_1_3.history[\"loss\"][-1])"
   ]
  },
  {
   "cell_type": "markdown",
   "metadata": {
    "id": "1_diagramm_tekst"
   },
   "source": [
    "### 1.3. Diagramm ja analüüs\n",
    "#### Diagramm"
   ]
  },
  {
   "cell_type": "code",
   "execution_count": null,
   "metadata": {
    "id": "1_diagramm"
   },
   "outputs": [],
   "source": [
    "# Diagramm\n"
   ]
  },
  {
   "cell_type": "markdown",
   "metadata": {
    "id": "1_analuus"
   },
   "source": [
    "#### Analüüs\n",
    "[ToDo]"
   ]
  },
  {
   "cell_type": "markdown",
   "metadata": {
    "id": "2_pealkiri"
   },
   "source": [
    "## 2. Mobiiltelefonide hinnaklassi ennustamine"
   ]
  },
  {
   "cell_type": "markdown",
   "metadata": {
    "id": "2_eeltootlus_tekst"
   },
   "source": [
    "### 2.1. Eeltöötlus"
   ]
  },
  {
   "cell_type": "code",
   "execution_count": null,
   "metadata": {
    "id": "2_eeltootlus_1"
   },
   "outputs": [],
   "source": []
  },
  {
   "cell_type": "code",
   "execution_count": null,
   "metadata": {
    "id": "2_eeltootlus_2"
   },
   "outputs": [],
   "source": []
  },
  {
   "cell_type": "code",
   "execution_count": null,
   "metadata": {
    "id": "2_eeltootlus_3"
   },
   "outputs": [],
   "source": []
  },
  {
   "cell_type": "code",
   "execution_count": null,
   "metadata": {
    "id": "2_eeltootlus_4"
   },
   "outputs": [],
   "source": []
  },
  {
   "cell_type": "code",
   "execution_count": null,
   "metadata": {
    "id": "2_eeltootlus_5"
   },
   "outputs": [],
   "source": []
  },
  {
   "cell_type": "markdown",
   "metadata": {
    "id": "2_vorgud_tekst"
   },
   "source": [
    "### 2.2. Erinevad närvivõrgud"
   ]
  },
  {
   "cell_type": "markdown",
   "metadata": {
    "id": "2_vork_1_tekst"
   },
   "source": [
    "#### Närvivõrk 1"
   ]
  },
  {
   "cell_type": "code",
   "execution_count": null,
   "metadata": {
    "id": "2_vork_1_koostamine"
   },
   "outputs": [],
   "source": [
    "# Mudeli koostamine\n"
   ]
  },
  {
   "cell_type": "code",
   "execution_count": null,
   "metadata": {
    "id": "2_vork_1_treenimine"
   },
   "outputs": [],
   "source": [
    "# Mudeli treenimine\n"
   ]
  },
  {
   "cell_type": "code",
   "execution_count": null,
   "metadata": {
    "id": "2_vork_1_testimine"
   },
   "outputs": [],
   "source": [
    "# Mudeli testimine\n",
    "\n",
    "# Trükib välja viimase kaofunktsiooni tulemuse\n",
    "print(\"Mudel 2.1:\", hist_2_1.history[\"loss\"][-1])"
   ]
  },
  {
   "cell_type": "markdown",
   "metadata": {
    "id": "2_vork_2_tekst"
   },
   "source": [
    "#### Närvivõrk 2"
   ]
  },
  {
   "cell_type": "code",
   "execution_count": null,
   "metadata": {
    "id": "2_vork_2_koostamine"
   },
   "outputs": [],
   "source": [
    "# Mudeli koostamine\n"
   ]
  },
  {
   "cell_type": "code",
   "execution_count": null,
   "metadata": {
    "id": "2_vork_2_treenimine"
   },
   "outputs": [],
   "source": [
    "# Mudeli treenimine\n"
   ]
  },
  {
   "cell_type": "code",
   "execution_count": null,
   "metadata": {
    "id": "2_vork_2_testimine"
   },
   "outputs": [],
   "source": [
    "# Mudeli testimine\n",
    "\n",
    "# Trükib välja viimase kaofunktsiooni tulemuse\n",
    "print(\"Mudel 2.2:\", hist_2_2.history[\"loss\"][-1])"
   ]
  },
  {
   "cell_type": "markdown",
   "metadata": {
    "id": "2_vork_3_tekst"
   },
   "source": [
    "#### Närvivõrk 3"
   ]
  },
  {
   "cell_type": "code",
   "execution_count": null,
   "metadata": {
    "id": "2_vork_3_koostamine"
   },
   "outputs": [],
   "source": [
    "# Mudeli koostamine\n"
   ]
  },
  {
   "cell_type": "code",
   "execution_count": null,
   "metadata": {
    "id": "2_vork_3_treenimine"
   },
   "outputs": [],
   "source": [
    "# Mudeli treenimine"
   ]
  },
  {
   "cell_type": "code",
   "execution_count": null,
   "metadata": {
    "id": "2_vork_3_testimine"
   },
   "outputs": [],
   "source": [
    "# Mudeli testimine\n",
    "\n",
    "# Trükib välja viimase kaofunktsiooni tulemuse\n",
    "print(\"Mudel 2.3:\", hist_2_3.history[\"loss\"][-1])"
   ]
  },
  {
   "cell_type": "markdown",
   "metadata": {
    "id": "2_diagramm_tekst"
   },
   "source": [
    "### 3.3. Diagramm ja analüüs\n",
    "#### Diagramm"
   ]
  },
  {
   "cell_type": "code",
   "execution_count": null,
   "metadata": {
    "id": "2_diagramm"
   },
   "outputs": [],
   "source": [
    "# Diagramm\n"
   ]
  },
  {
   "cell_type": "markdown",
   "metadata": {
    "id": "2_analuus"
   },
   "source": [
    "#### Analüüs\n",
    "[ToDo]"
   ]
  },
  {
   "cell_type": "markdown",
   "metadata": {
    "id": "kommentaarid"
   },
   "source": [
    "## Kommentaarid kodusele tööle: (umbes) mitu tundi võttis ülesande lahendamine aega, kas see tundus olevat (võrreldes eelmistega) liiga kerge, liiga raske või teie arvates paras jne.\n",
    "\n",
    "[TODO]"
   ]
  },
  {
   "cell_type": "code",
   "execution_count": null,
   "metadata": {
    "id": "HwCGiz_HaugO"
   },
   "outputs": [],
   "source": []
  }
 ],
 "metadata": {
  "accelerator": "GPU",
  "anaconda-cloud": {},
  "celltoolbar": "Slideshow",
  "colab": {
   "provenance": []
  },
  "kernelspec": {
   "display_name": "Python 3 (ipykernel)",
   "language": "python",
   "name": "python3"
  },
  "language_info": {
   "codemirror_mode": {
    "name": "ipython",
    "version": 3
   },
   "file_extension": ".py",
   "mimetype": "text/x-python",
   "name": "python",
   "nbconvert_exporter": "python",
   "pygments_lexer": "ipython3",
   "version": "3.12.9"
  }
 },
 "nbformat": 4,
 "nbformat_minor": 4
}
